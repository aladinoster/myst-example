{
 "cells": [
  {
   "cell_type": "markdown",
   "metadata": {
    "user_expressions": []
   },
   "source": [
    "---\n",
    "date: 2023-05-13\n",
    "title: How to MyST, without being mystified 🧙\n",
    "short_title: How to MyST\n",
    "subtitle: Evolve markdown documents and notebooks into structured data\n",
    "\n",
    "author:\n",
    "    - name: Andres Ladino\n",
    "      afiliations:\n",
    "        - My Organisation\n",
    "      email: aladinoster@gmail.com\n",
    "exports:\n",
    "  - html      \n",
    "kernelspec:\n",
    "  name: python3\n",
    "  display_name: python3\n",
    "jupytext:\n",
    "  text_representation:\n",
    "    extension: .md\n",
    "    format_name: myst\n",
    "    format_version: '0.13'\n",
    "---"
   ]
  },
  {
   "cell_type": "markdown",
   "metadata": {
    "user_expressions": []
   },
   "source": [
    "+++ {\"part\": \"abstract\"}\n",
    "\n",
    "We introduce, a set of open-source, community-driven ...\n",
    "\n",
    "+++"
   ]
  },
  {
   "cell_type": "markdown",
   "metadata": {
    "user_expressions": []
   },
   "source": [
    "::: {important}\n",
    "This is important!\n",
    ":::"
   ]
  },
  {
   "cell_type": "markdown",
   "metadata": {
    "user_expressions": []
   },
   "source": [
    "# Fin"
   ]
  }
 ],
 "metadata": {
  "kernelspec": {
   "display_name": "Python 3 (ipykernel)",
   "language": "python",
   "name": "python3"
  },
  "language_info": {
   "codemirror_mode": {
    "name": "ipython",
    "version": 3
   },
   "file_extension": ".py",
   "mimetype": "text/x-python",
   "name": "python",
   "nbconvert_exporter": "python",
   "pygments_lexer": "ipython3",
   "version": "3.11.2"
  }
 },
 "nbformat": 4,
 "nbformat_minor": 4
}
